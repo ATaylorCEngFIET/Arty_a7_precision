{
 "cells": [
  {
   "cell_type": "code",
   "execution_count": 54,
   "id": "3229bd54-24da-47f9-813e-d712e0729bda",
   "metadata": {},
   "outputs": [],
   "source": [
    "import serial # pyserial library\n",
    "import ipywidgets as widgets\n",
    "from IPython.display import display, clear_output\n",
    "import json\n",
    "import time"
   ]
  },
  {
   "cell_type": "code",
   "execution_count": 32,
   "id": "7c502c23-5c5b-42f5-94de-1f43a0cc54af",
   "metadata": {},
   "outputs": [],
   "source": [
    "# Define the serial port and the baud rate\n",
    "port = 'COM4'  # Replace with your serial port name, e.g., '/dev/ttyUSB0' on Linux\n",
    "baud_rate = 9600  # Common baud rate"
   ]
  },
  {
   "cell_type": "code",
   "execution_count": 71,
   "id": "87ca93b4-03ff-46ec-8c1c-050fadc20f46",
   "metadata": {
    "scrolled": true
   },
   "outputs": [
    {
     "data": {
      "application/vnd.jupyter.widget-view+json": {
       "model_id": "28f6d7b9c5814156ac68bab2ae9682bd",
       "version_major": 2,
       "version_minor": 0
      },
      "text/plain": [
       "Button(description='Save Current Settings', style=ButtonStyle())"
      ]
     },
     "metadata": {},
     "output_type": "display_data"
    },
    {
     "data": {
      "application/vnd.jupyter.widget-view+json": {
       "model_id": "4ce93fe805894318ba7abff28fa1583b",
       "version_major": 2,
       "version_minor": 0
      },
      "text/plain": [
       "Button(description='Execute Saved Settings', style=ButtonStyle())"
      ]
     },
     "metadata": {},
     "output_type": "display_data"
    },
    {
     "data": {
      "application/vnd.jupyter.widget-view+json": {
       "model_id": "465595f1ea39475d83afecaae6523d5c",
       "version_major": 2,
       "version_minor": 0
      },
      "text/plain": [
       "Button(description='Home Position', style=ButtonStyle())"
      ]
     },
     "metadata": {},
     "output_type": "display_data"
    },
    {
     "data": {
      "application/vnd.jupyter.widget-view+json": {
       "model_id": "b950cb062ed24e258b12a8da0b924ffc",
       "version_major": 2,
       "version_minor": 0
      },
      "text/plain": [
       "Button(description='Execute Saved Settings with Transition', style=ButtonStyle())"
      ]
     },
     "metadata": {},
     "output_type": "display_data"
    },
    {
     "data": {
      "application/vnd.jupyter.widget-view+json": {
       "model_id": "ebf8afaa617f4a3392c1751a830b7505",
       "version_major": 2,
       "version_minor": 0
      },
      "text/plain": [
       "Button(description='Close Serial Port', style=ButtonStyle())"
      ]
     },
     "metadata": {},
     "output_type": "display_data"
    },
    {
     "data": {
      "application/vnd.jupyter.widget-view+json": {
       "model_id": "0b0f4f23b1214fe3b7721eb764f79153",
       "version_major": 2,
       "version_minor": 0
      },
      "text/plain": [
       "VBox(children=(IntSlider(value=90, description='Joint A', max=180), IntSlider(value=90, description='Joint B',…"
      ]
     },
     "metadata": {},
     "output_type": "display_data"
    },
    {
     "data": {
      "application/vnd.jupyter.widget-view+json": {
       "model_id": "cad2f86223824d92990c6ca49df881fa",
       "version_major": 2,
       "version_minor": 0
      },
      "text/plain": [
       "HBox(children=(Dropdown(description='Joint:', options=('a', 'b', 'c', 'd', 'e', 'f'), value='a'), BoundedIntTe…"
      ]
     },
     "metadata": {},
     "output_type": "display_data"
    },
    {
     "data": {
      "application/vnd.jupyter.widget-view+json": {
       "model_id": "8879bde3bd13455cae8ddcb973be94d1",
       "version_major": 2,
       "version_minor": 0
      },
      "text/plain": [
       "VBox(children=(HBox(children=(Button(description='Save Current Settings', style=ButtonStyle()), Button(descrip…"
      ]
     },
     "metadata": {},
     "output_type": "display_data"
    }
   ],
   "source": [
    "try:\n",
    "    # Open the serial port\n",
    "    ser = serial.Serial(port, baud_rate, timeout=1)\n",
    "    \n",
    "    # Function to send command to the serial port\n",
    "    def send_command(change):\n",
    "        joint = change['owner'].description.split(' ')[1].lower()  # Get joint identifier\n",
    "        angle = change['new']\n",
    "        command = f\"{joint} {angle}\\n\\r\"\n",
    "        print(f\"Message to be sent: {command.strip()}\")\n",
    "        ser.write(command.encode('ascii'))\n",
    "        clear_output(wait=True)  # Clear previous output to keep it clean\n",
    "        print(f\"Sent command: {command.strip()}\")\n",
    "    \n",
    "    # Function to save the current joint settings to a file\n",
    "    def save_settings():\n",
    "        with open('joint_settings.json', 'a') as file:\n",
    "            for joint, value in sliders.items():\n",
    "                command = f\"{joint} {value.value}\\n\"\n",
    "                file.write(command)\n",
    "        print(\"Joint settings saved to joint_settings.json\")\n",
    "    \n",
    "    # Function to execute the settings from the file\n",
    "    def execute_saved_settings():\n",
    "        try:\n",
    "            with open('joint_settings.json', 'r') as file:\n",
    "                for line in file:\n",
    "                    joint, angle = line.strip().split()\n",
    "                    command = f\"{joint} {angle}\\n\\r\"\n",
    "                    ser.write(command.encode('ascii'))\n",
    "                    sliders[joint].value = int(angle)  # Update slider to reflect current position\n",
    "                    print(f\"Executing command: {command.strip()}\")\n",
    "        except FileNotFoundError:\n",
    "            print(\"No saved settings file found.\")\n",
    "\n",
    "    # Function to reset all joints to 90 degrees\n",
    "    def home_position():\n",
    "        for joint, slider in sliders.items():\n",
    "            slider.value = 90\n",
    "            command = f\"{joint} 90\\n\\r\"\n",
    "            ser.write(command.encode('ascii'))\n",
    "            print(f\"Resetting {joint} to 90 degrees\")\n",
    "        print(\"All joints reset to home position (90 degrees).\")\n",
    "\n",
    "    # Function to transition a joint from a start point to an end point\n",
    "    def transition_joint(joint, start, end, step=1, delay=0.05):\n",
    "        if start < end:\n",
    "            for angle in range(start, end + 1, step):\n",
    "                command = f\"{joint} {angle}\\n\\r\"\n",
    "                ser.write(command.encode('ascii'))\n",
    "                sliders[joint].value = angle  # Update slider to reflect current position\n",
    "                print(f\"Transitioning {joint} to {angle} degrees\")\n",
    "                time.sleep(delay)\n",
    "        else:\n",
    "            for angle in range(start, end - 1, -step):\n",
    "                command = f\"{joint} {angle}\\n\\r\"\n",
    "                ser.write(command.encode('ascii'))\n",
    "                sliders[joint].value = angle  # Update slider to reflect current position\n",
    "                print(f\"Transitioning {joint} to {angle} degrees\")\n",
    "                time.sleep(delay)\n",
    "                \n",
    "    # Function to get the current position of all sliders\n",
    "    def get_current_positions():\n",
    "        positions = {joint: slider.value for joint, slider in sliders.items()}\n",
    "        print(\"Current joint positions:\", positions)\n",
    "        return positions            \n",
    "    \n",
    "    # Function to execute saved settings by transitioning joints\n",
    "    def execute_saved_settings_with_transition():\n",
    "        try:\n",
    "            with open('joint_settings.json', 'r') as file:\n",
    "                for line in file:\n",
    "                    joint, target_angle = line.strip().split()\n",
    "                    target_angle = int(target_angle)\n",
    "                    current_positions = get_current_positions()\n",
    "                    start_angle = current_positions[joint]\n",
    "                    transition_joint(joint, start_angle, target_angle)\n",
    "        except FileNotFoundError:\n",
    "            print(\"No saved settings file found.\")\n",
    "    \n",
    "    # Create sliders for each joint (a to f)\n",
    "    sliders = {}\n",
    "    slider_widgets = []\n",
    "    for joint in ['a', 'b', 'c', 'd', 'e', 'f']:\n",
    "        slider = widgets.IntSlider(value=90, min=0, max=180, step=1, description=f'Joint {joint.upper()}')\n",
    "        slider.observe(send_command, names='value')\n",
    "        sliders[joint] = slider\n",
    "        slider_widgets.append(slider)\n",
    "    sliders_box = widgets.VBox(slider_widgets)\n",
    "    \n",
    "    # Button to save the current joint settings\n",
    "    save_button = widgets.Button(description=\"Save Current Settings\")\n",
    "    save_button.on_click(lambda x: save_settings())\n",
    "    display(save_button)\n",
    "    \n",
    "    # Button to execute the saved settings\n",
    "    execute_saved_button = widgets.Button(description=\"Execute Saved Settings\")\n",
    "    execute_saved_button.on_click(lambda x: execute_saved_settings())\n",
    "    display(execute_saved_button)\n",
    "\n",
    "    # Button to reset all joints to home position\n",
    "    home_button = widgets.Button(description=\"Home Position\")\n",
    "    home_button.on_click(lambda x: home_position())\n",
    "    display(home_button)\n",
    "\n",
    "    joint_selector = widgets.Dropdown(options=['a', 'b', 'c', 'd', 'e', 'f'], description='Joint:')\n",
    "    start_box = widgets.BoundedIntText(value=0, min=0, max=180, step=1, description='Start:')\n",
    "    end_box = widgets.BoundedIntText(value=180, min=0, max=180, step=1, description='End:')\n",
    "    move_button = widgets.Button(description=\"Move Joint\")\n",
    "    \n",
    "    transition_box = widgets.HBox([joint_selector, start_box, end_box, move_button])\n",
    "    \n",
    "    # Button to execute saved settings with transition\n",
    "    execute_transition_button = widgets.Button(description=\"Execute Saved Settings with Transition\")\n",
    "    execute_transition_button.on_click(lambda x: execute_saved_settings_with_transition())\n",
    "    display(execute_transition_button)\n",
    "    \n",
    "    def on_move_button_click(_):\n",
    "        joint = joint_selector.value\n",
    "        start = start_box.value\n",
    "        end = end_box.value\n",
    "        transition_joint(joint, start, end)\n",
    "    \n",
    "    move_button.on_click(on_move_button_click)\n",
    "\n",
    "    # Button to get current positions of sliders\n",
    "    get_positions_button = widgets.Button(description=\"Get Current Positions\")\n",
    "    get_positions_button.on_click(lambda x: get_current_positions())\n",
    "    \n",
    "    close_button = widgets.Button(description=\"Close Serial Port\")\n",
    "    close_button.on_click(lambda x: close_serial_port())\n",
    "    display(close_button)   \n",
    "\n",
    "    # Arrange buttons in a structured layout\n",
    "    buttons_box = widgets.VBox([\n",
    "        widgets.HBox([save_button, execute_saved_button, execute_transition_button]),\n",
    "        widgets.HBox([home_button, get_positions_button, close_button])\n",
    "    ])\n",
    "    \n",
    "    # Display all widgets in a structured layout\n",
    "    display(sliders_box, transition_box, buttons_box)\n",
    "    \n",
    "    # Close the serial port when done\n",
    "    def close_serial_port():\n",
    "        if ser.is_open:\n",
    "            ser.close()\n",
    "            print(\"Serial port closed.\")\n",
    "    \n",
    "    # Create a button to close the serial port\n",
    "\n",
    "\n",
    "except serial.SerialException as e:\n",
    "    print(f\"Error: {e}\")\n",
    "except Exception as e:\n",
    "    print(f\"An unexpected error occurred: {e}\")"
   ]
  },
  {
   "cell_type": "code",
   "execution_count": null,
   "id": "03c82f5c-e6ac-4068-be38-1e307dba8b30",
   "metadata": {},
   "outputs": [],
   "source": []
  }
 ],
 "metadata": {
  "kernelspec": {
   "display_name": "Python 3 (ipykernel)",
   "language": "python",
   "name": "python3"
  },
  "language_info": {
   "codemirror_mode": {
    "name": "ipython",
    "version": 3
   },
   "file_extension": ".py",
   "mimetype": "text/x-python",
   "name": "python",
   "nbconvert_exporter": "python",
   "pygments_lexer": "ipython3",
   "version": "3.11.7"
  }
 },
 "nbformat": 4,
 "nbformat_minor": 5
}
